{
 "cells": [
  {
   "cell_type": "code",
   "execution_count": 2,
   "metadata": {},
   "outputs": [
    {
     "ename": "FileNotFoundError",
     "evalue": "[Errno 2] No such file or directory: 'Indian_capitals.xlsx'",
     "output_type": "error",
     "traceback": [
      "\u001b[1;31m---------------------------------------------------------------------------\u001b[0m",
      "\u001b[1;31mFileNotFoundError\u001b[0m                         Traceback (most recent call last)",
      "\u001b[1;32m<ipython-input-2-93080d0487e1>\u001b[0m in \u001b[0;36m<module>\u001b[1;34m\u001b[0m\n\u001b[0;32m      7\u001b[0m \u001b[1;32mfrom\u001b[0m \u001b[0mgraphviz\u001b[0m \u001b[1;32mimport\u001b[0m \u001b[0mGraph\u001b[0m\u001b[1;33m\u001b[0m\u001b[1;33m\u001b[0m\u001b[0m\n\u001b[0;32m      8\u001b[0m \u001b[0mgraph\u001b[0m\u001b[1;33m=\u001b[0m\u001b[0mGraph\u001b[0m\u001b[1;33m(\u001b[0m\u001b[0mstrict\u001b[0m\u001b[1;33m=\u001b[0m\u001b[1;32mTrue\u001b[0m\u001b[1;33m)\u001b[0m\u001b[1;33m\u001b[0m\u001b[1;33m\u001b[0m\u001b[0m\n\u001b[1;32m----> 9\u001b[1;33m \u001b[0msheet\u001b[0m\u001b[1;33m=\u001b[0m\u001b[0mpan\u001b[0m\u001b[1;33m.\u001b[0m\u001b[0mread_excel\u001b[0m\u001b[1;33m(\u001b[0m\u001b[1;34m'Indian_capitals.xlsx'\u001b[0m\u001b[1;33m,\u001b[0m\u001b[0mheader\u001b[0m\u001b[1;33m=\u001b[0m\u001b[1;32mNone\u001b[0m\u001b[1;33m)\u001b[0m\u001b[1;33m\u001b[0m\u001b[1;33m\u001b[0m\u001b[0m\n\u001b[0m\u001b[0;32m     10\u001b[0m \u001b[0msheet\u001b[0m\u001b[1;33m.\u001b[0m\u001b[0mcolumns\u001b[0m \u001b[1;33m=\u001b[0m \u001b[1;33m[\u001b[0m\u001b[1;34m'1'\u001b[0m\u001b[1;33m,\u001b[0m\u001b[1;34m'2'\u001b[0m\u001b[1;33m,\u001b[0m\u001b[1;34m'3'\u001b[0m\u001b[1;33m]\u001b[0m\u001b[1;33m\u001b[0m\u001b[1;33m\u001b[0m\u001b[0m\n\u001b[0;32m     11\u001b[0m \u001b[0msheet\u001b[0m\u001b[1;33m[\u001b[0m\u001b[1;34m'1'\u001b[0m\u001b[1;33m]\u001b[0m \u001b[1;33m=\u001b[0m \u001b[0msheet\u001b[0m\u001b[1;33m[\u001b[0m\u001b[1;34m'1'\u001b[0m\u001b[1;33m]\u001b[0m\u001b[1;33m.\u001b[0m\u001b[0mstr\u001b[0m\u001b[1;33m.\u001b[0m\u001b[0mstrip\u001b[0m\u001b[1;33m(\u001b[0m\u001b[1;33m)\u001b[0m\u001b[1;33m.\u001b[0m\u001b[0mstr\u001b[0m\u001b[1;33m.\u001b[0m\u001b[0mcapitalize\u001b[0m\u001b[1;33m(\u001b[0m\u001b[1;33m)\u001b[0m\u001b[1;33m\u001b[0m\u001b[1;33m\u001b[0m\u001b[0m\n",
      "\u001b[1;32m~\\Anaconda3\\lib\\site-packages\\pandas\\util\\_decorators.py\u001b[0m in \u001b[0;36mwrapper\u001b[1;34m(*args, **kwargs)\u001b[0m\n\u001b[0;32m    206\u001b[0m                 \u001b[1;32melse\u001b[0m\u001b[1;33m:\u001b[0m\u001b[1;33m\u001b[0m\u001b[1;33m\u001b[0m\u001b[0m\n\u001b[0;32m    207\u001b[0m                     \u001b[0mkwargs\u001b[0m\u001b[1;33m[\u001b[0m\u001b[0mnew_arg_name\u001b[0m\u001b[1;33m]\u001b[0m \u001b[1;33m=\u001b[0m \u001b[0mnew_arg_value\u001b[0m\u001b[1;33m\u001b[0m\u001b[1;33m\u001b[0m\u001b[0m\n\u001b[1;32m--> 208\u001b[1;33m             \u001b[1;32mreturn\u001b[0m \u001b[0mfunc\u001b[0m\u001b[1;33m(\u001b[0m\u001b[1;33m*\u001b[0m\u001b[0margs\u001b[0m\u001b[1;33m,\u001b[0m \u001b[1;33m**\u001b[0m\u001b[0mkwargs\u001b[0m\u001b[1;33m)\u001b[0m\u001b[1;33m\u001b[0m\u001b[1;33m\u001b[0m\u001b[0m\n\u001b[0m\u001b[0;32m    209\u001b[0m \u001b[1;33m\u001b[0m\u001b[0m\n\u001b[0;32m    210\u001b[0m         \u001b[1;32mreturn\u001b[0m \u001b[0mwrapper\u001b[0m\u001b[1;33m\u001b[0m\u001b[1;33m\u001b[0m\u001b[0m\n",
      "\u001b[1;32m~\\Anaconda3\\lib\\site-packages\\pandas\\io\\excel\\_base.py\u001b[0m in \u001b[0;36mread_excel\u001b[1;34m(io, sheet_name, header, names, index_col, usecols, squeeze, dtype, engine, converters, true_values, false_values, skiprows, nrows, na_values, keep_default_na, verbose, parse_dates, date_parser, thousands, comment, skip_footer, skipfooter, convert_float, mangle_dupe_cols, **kwds)\u001b[0m\n\u001b[0;32m    308\u001b[0m \u001b[1;33m\u001b[0m\u001b[0m\n\u001b[0;32m    309\u001b[0m     \u001b[1;32mif\u001b[0m \u001b[1;32mnot\u001b[0m \u001b[0misinstance\u001b[0m\u001b[1;33m(\u001b[0m\u001b[0mio\u001b[0m\u001b[1;33m,\u001b[0m \u001b[0mExcelFile\u001b[0m\u001b[1;33m)\u001b[0m\u001b[1;33m:\u001b[0m\u001b[1;33m\u001b[0m\u001b[1;33m\u001b[0m\u001b[0m\n\u001b[1;32m--> 310\u001b[1;33m         \u001b[0mio\u001b[0m \u001b[1;33m=\u001b[0m \u001b[0mExcelFile\u001b[0m\u001b[1;33m(\u001b[0m\u001b[0mio\u001b[0m\u001b[1;33m,\u001b[0m \u001b[0mengine\u001b[0m\u001b[1;33m=\u001b[0m\u001b[0mengine\u001b[0m\u001b[1;33m)\u001b[0m\u001b[1;33m\u001b[0m\u001b[1;33m\u001b[0m\u001b[0m\n\u001b[0m\u001b[0;32m    311\u001b[0m     \u001b[1;32melif\u001b[0m \u001b[0mengine\u001b[0m \u001b[1;32mand\u001b[0m \u001b[0mengine\u001b[0m \u001b[1;33m!=\u001b[0m \u001b[0mio\u001b[0m\u001b[1;33m.\u001b[0m\u001b[0mengine\u001b[0m\u001b[1;33m:\u001b[0m\u001b[1;33m\u001b[0m\u001b[1;33m\u001b[0m\u001b[0m\n\u001b[0;32m    312\u001b[0m         raise ValueError(\n",
      "\u001b[1;32m~\\Anaconda3\\lib\\site-packages\\pandas\\io\\excel\\_base.py\u001b[0m in \u001b[0;36m__init__\u001b[1;34m(self, io, engine)\u001b[0m\n\u001b[0;32m    817\u001b[0m         \u001b[0mself\u001b[0m\u001b[1;33m.\u001b[0m\u001b[0m_io\u001b[0m \u001b[1;33m=\u001b[0m \u001b[0m_stringify_path\u001b[0m\u001b[1;33m(\u001b[0m\u001b[0mio\u001b[0m\u001b[1;33m)\u001b[0m\u001b[1;33m\u001b[0m\u001b[1;33m\u001b[0m\u001b[0m\n\u001b[0;32m    818\u001b[0m \u001b[1;33m\u001b[0m\u001b[0m\n\u001b[1;32m--> 819\u001b[1;33m         \u001b[0mself\u001b[0m\u001b[1;33m.\u001b[0m\u001b[0m_reader\u001b[0m \u001b[1;33m=\u001b[0m \u001b[0mself\u001b[0m\u001b[1;33m.\u001b[0m\u001b[0m_engines\u001b[0m\u001b[1;33m[\u001b[0m\u001b[0mengine\u001b[0m\u001b[1;33m]\u001b[0m\u001b[1;33m(\u001b[0m\u001b[0mself\u001b[0m\u001b[1;33m.\u001b[0m\u001b[0m_io\u001b[0m\u001b[1;33m)\u001b[0m\u001b[1;33m\u001b[0m\u001b[1;33m\u001b[0m\u001b[0m\n\u001b[0m\u001b[0;32m    820\u001b[0m \u001b[1;33m\u001b[0m\u001b[0m\n\u001b[0;32m    821\u001b[0m     \u001b[1;32mdef\u001b[0m \u001b[0m__fspath__\u001b[0m\u001b[1;33m(\u001b[0m\u001b[0mself\u001b[0m\u001b[1;33m)\u001b[0m\u001b[1;33m:\u001b[0m\u001b[1;33m\u001b[0m\u001b[1;33m\u001b[0m\u001b[0m\n",
      "\u001b[1;32m~\\Anaconda3\\lib\\site-packages\\pandas\\io\\excel\\_xlrd.py\u001b[0m in \u001b[0;36m__init__\u001b[1;34m(self, filepath_or_buffer)\u001b[0m\n\u001b[0;32m     19\u001b[0m         \u001b[0merr_msg\u001b[0m \u001b[1;33m=\u001b[0m \u001b[1;34m\"Install xlrd >= 1.0.0 for Excel support\"\u001b[0m\u001b[1;33m\u001b[0m\u001b[1;33m\u001b[0m\u001b[0m\n\u001b[0;32m     20\u001b[0m         \u001b[0mimport_optional_dependency\u001b[0m\u001b[1;33m(\u001b[0m\u001b[1;34m\"xlrd\"\u001b[0m\u001b[1;33m,\u001b[0m \u001b[0mextra\u001b[0m\u001b[1;33m=\u001b[0m\u001b[0merr_msg\u001b[0m\u001b[1;33m)\u001b[0m\u001b[1;33m\u001b[0m\u001b[1;33m\u001b[0m\u001b[0m\n\u001b[1;32m---> 21\u001b[1;33m         \u001b[0msuper\u001b[0m\u001b[1;33m(\u001b[0m\u001b[1;33m)\u001b[0m\u001b[1;33m.\u001b[0m\u001b[0m__init__\u001b[0m\u001b[1;33m(\u001b[0m\u001b[0mfilepath_or_buffer\u001b[0m\u001b[1;33m)\u001b[0m\u001b[1;33m\u001b[0m\u001b[1;33m\u001b[0m\u001b[0m\n\u001b[0m\u001b[0;32m     22\u001b[0m \u001b[1;33m\u001b[0m\u001b[0m\n\u001b[0;32m     23\u001b[0m     \u001b[1;33m@\u001b[0m\u001b[0mproperty\u001b[0m\u001b[1;33m\u001b[0m\u001b[1;33m\u001b[0m\u001b[0m\n",
      "\u001b[1;32m~\\Anaconda3\\lib\\site-packages\\pandas\\io\\excel\\_base.py\u001b[0m in \u001b[0;36m__init__\u001b[1;34m(self, filepath_or_buffer)\u001b[0m\n\u001b[0;32m    357\u001b[0m             \u001b[0mself\u001b[0m\u001b[1;33m.\u001b[0m\u001b[0mbook\u001b[0m \u001b[1;33m=\u001b[0m \u001b[0mself\u001b[0m\u001b[1;33m.\u001b[0m\u001b[0mload_workbook\u001b[0m\u001b[1;33m(\u001b[0m\u001b[0mfilepath_or_buffer\u001b[0m\u001b[1;33m)\u001b[0m\u001b[1;33m\u001b[0m\u001b[1;33m\u001b[0m\u001b[0m\n\u001b[0;32m    358\u001b[0m         \u001b[1;32melif\u001b[0m \u001b[0misinstance\u001b[0m\u001b[1;33m(\u001b[0m\u001b[0mfilepath_or_buffer\u001b[0m\u001b[1;33m,\u001b[0m \u001b[0mstr\u001b[0m\u001b[1;33m)\u001b[0m\u001b[1;33m:\u001b[0m\u001b[1;33m\u001b[0m\u001b[1;33m\u001b[0m\u001b[0m\n\u001b[1;32m--> 359\u001b[1;33m             \u001b[0mself\u001b[0m\u001b[1;33m.\u001b[0m\u001b[0mbook\u001b[0m \u001b[1;33m=\u001b[0m \u001b[0mself\u001b[0m\u001b[1;33m.\u001b[0m\u001b[0mload_workbook\u001b[0m\u001b[1;33m(\u001b[0m\u001b[0mfilepath_or_buffer\u001b[0m\u001b[1;33m)\u001b[0m\u001b[1;33m\u001b[0m\u001b[1;33m\u001b[0m\u001b[0m\n\u001b[0m\u001b[0;32m    360\u001b[0m         \u001b[1;32melse\u001b[0m\u001b[1;33m:\u001b[0m\u001b[1;33m\u001b[0m\u001b[1;33m\u001b[0m\u001b[0m\n\u001b[0;32m    361\u001b[0m             raise ValueError(\n",
      "\u001b[1;32m~\\Anaconda3\\lib\\site-packages\\pandas\\io\\excel\\_xlrd.py\u001b[0m in \u001b[0;36mload_workbook\u001b[1;34m(self, filepath_or_buffer)\u001b[0m\n\u001b[0;32m     34\u001b[0m             \u001b[1;32mreturn\u001b[0m \u001b[0mopen_workbook\u001b[0m\u001b[1;33m(\u001b[0m\u001b[0mfile_contents\u001b[0m\u001b[1;33m=\u001b[0m\u001b[0mdata\u001b[0m\u001b[1;33m)\u001b[0m\u001b[1;33m\u001b[0m\u001b[1;33m\u001b[0m\u001b[0m\n\u001b[0;32m     35\u001b[0m         \u001b[1;32melse\u001b[0m\u001b[1;33m:\u001b[0m\u001b[1;33m\u001b[0m\u001b[1;33m\u001b[0m\u001b[0m\n\u001b[1;32m---> 36\u001b[1;33m             \u001b[1;32mreturn\u001b[0m \u001b[0mopen_workbook\u001b[0m\u001b[1;33m(\u001b[0m\u001b[0mfilepath_or_buffer\u001b[0m\u001b[1;33m)\u001b[0m\u001b[1;33m\u001b[0m\u001b[1;33m\u001b[0m\u001b[0m\n\u001b[0m\u001b[0;32m     37\u001b[0m \u001b[1;33m\u001b[0m\u001b[0m\n\u001b[0;32m     38\u001b[0m     \u001b[1;33m@\u001b[0m\u001b[0mproperty\u001b[0m\u001b[1;33m\u001b[0m\u001b[1;33m\u001b[0m\u001b[0m\n",
      "\u001b[1;32m~\\Anaconda3\\lib\\site-packages\\xlrd\\__init__.py\u001b[0m in \u001b[0;36mopen_workbook\u001b[1;34m(filename, logfile, verbosity, use_mmap, file_contents, encoding_override, formatting_info, on_demand, ragged_rows)\u001b[0m\n\u001b[0;32m    109\u001b[0m     \u001b[1;32melse\u001b[0m\u001b[1;33m:\u001b[0m\u001b[1;33m\u001b[0m\u001b[1;33m\u001b[0m\u001b[0m\n\u001b[0;32m    110\u001b[0m         \u001b[0mfilename\u001b[0m \u001b[1;33m=\u001b[0m \u001b[0mos\u001b[0m\u001b[1;33m.\u001b[0m\u001b[0mpath\u001b[0m\u001b[1;33m.\u001b[0m\u001b[0mexpanduser\u001b[0m\u001b[1;33m(\u001b[0m\u001b[0mfilename\u001b[0m\u001b[1;33m)\u001b[0m\u001b[1;33m\u001b[0m\u001b[1;33m\u001b[0m\u001b[0m\n\u001b[1;32m--> 111\u001b[1;33m         \u001b[1;32mwith\u001b[0m \u001b[0mopen\u001b[0m\u001b[1;33m(\u001b[0m\u001b[0mfilename\u001b[0m\u001b[1;33m,\u001b[0m \u001b[1;34m\"rb\"\u001b[0m\u001b[1;33m)\u001b[0m \u001b[1;32mas\u001b[0m \u001b[0mf\u001b[0m\u001b[1;33m:\u001b[0m\u001b[1;33m\u001b[0m\u001b[1;33m\u001b[0m\u001b[0m\n\u001b[0m\u001b[0;32m    112\u001b[0m             \u001b[0mpeek\u001b[0m \u001b[1;33m=\u001b[0m \u001b[0mf\u001b[0m\u001b[1;33m.\u001b[0m\u001b[0mread\u001b[0m\u001b[1;33m(\u001b[0m\u001b[0mpeeksz\u001b[0m\u001b[1;33m)\u001b[0m\u001b[1;33m\u001b[0m\u001b[1;33m\u001b[0m\u001b[0m\n\u001b[0;32m    113\u001b[0m     \u001b[1;32mif\u001b[0m \u001b[0mpeek\u001b[0m \u001b[1;33m==\u001b[0m \u001b[1;34mb\"PK\\x03\\x04\"\u001b[0m\u001b[1;33m:\u001b[0m \u001b[1;31m# a ZIP file\u001b[0m\u001b[1;33m\u001b[0m\u001b[1;33m\u001b[0m\u001b[0m\n",
      "\u001b[1;31mFileNotFoundError\u001b[0m: [Errno 2] No such file or directory: 'Indian_capitals.xlsx'"
     ]
    }
   ],
   "source": [
    "import pandas as pan\n",
    "import numpy as num\n",
    "from collections import deque\n",
    "from pandas import DataFrame\n",
    "from operator import itemgetter\n",
    "import heapq as heap\n",
    "from graphviz import Graph\n",
    "graph=Graph(strict=True)\n",
    "sheet=pan.read_excel('Indian_capitals.xlsx',header=None)\n",
    "sheet.columns = ['1','2','3']\n",
    "sheet['1'] = sheet['1'].str.strip().str.capitalize()\n",
    "sheet['2'] = sheet['2'].str.strip().str.capitalize()"
   ]
  },
  {
   "cell_type": "code",
   "execution_count": null,
   "metadata": {},
   "outputs": [],
   "source": [
    "!pip install graphviz"
   ]
  },
  {
   "cell_type": "markdown",
   "metadata": {},
   "source": [
    "<h1 style=\"text-align:center;\">Goal test</h1>"
   ]
  },
  {
   "cell_type": "code",
   "execution_count": null,
   "metadata": {},
   "outputs": [],
   "source": [
    "def goaltest(src,dest):\n",
    "    if src == dest:\n",
    "        return True\n",
    "    else:\n",
    "        return False"
   ]
  },
  {
   "cell_type": "code",
   "execution_count": null,
   "metadata": {},
   "outputs": [],
   "source": [
    "data=DataFrame(sheet)\n",
    "print(data.head())\n",
    "data = data.replace(['Amaravathi','Bangalore'] ,['Amaravati','Bengaluru'])\n",
    "print(data.head())\n",
    "data= num.array(data)"
   ]
  },
  {
   "cell_type": "markdown",
   "metadata": {},
   "source": [
    "<h1 style=\"text-align:center;\">1)Simpleproblemsolvingagent</h1>\n",
    "<p>In this the goal formulation and the problem formulation will happen</p>"
   ]
  },
  {
   "cell_type": "code",
   "execution_count": null,
   "metadata": {},
   "outputs": [],
   "source": [
    "problem = None\n",
    "goal = None\n",
    "seq = None\n",
    "def ProblemSolvingAgent(percept,search,goaltest):\n",
    "    global problem, goal, seq\n",
    "    seq=[]\n",
    "    state=percept[0]\n",
    "    state=updatestate(state,percept)\n",
    "    goal=percept[1]\n",
    "    if seq==[]:\n",
    "        goal=formulategoal(state,percept)\n",
    "        problem=formulateproblem(state,goal)\n",
    "        seq=search(problem,goal)\n",
    "        if seq==None:\n",
    "            return None\n",
    "        return seq"
   ]
  },
  {
   "cell_type": "code",
   "execution_count": null,
   "metadata": {},
   "outputs": [],
   "source": [
    "class Problem:\n",
    "    def __init__(self,initialstate,goal):\n",
    "        self.initialstate=initialstate\n",
    "        self.goal=goal\n",
    "    def action(self,state):\n",
    "        inter_city=[]\n",
    "        for i in data:\n",
    "            if i[0]==state:\n",
    "                inter_city.append([i[1],i[2]])\n",
    "            if i[1]==state:\n",
    "                inter_city.append([i[0],i[2]])\n",
    "        return inter_city\n",
    "    def result(self,state,action):\n",
    "        return action\n",
    "    def cost(self,action,inter_city):\n",
    "        for i in inter_city:\n",
    "            if i[0]==action:\n",
    "                cost=i[1]\n",
    "        return cost"
   ]
  },
  {
   "cell_type": "code",
   "execution_count": null,
   "metadata": {},
   "outputs": [],
   "source": [
    "class ChildNode:\n",
    "    def __init__(self,state,problem,action,parent,inter_city):\n",
    "        if parent is None:\n",
    "            self.state=state\n",
    "            self.parent=None\n",
    "            self.action=None\n",
    "            self.inter_city=None\n",
    "            self.path_cost=0\n",
    "        else:\n",
    "            self.state=problem.result(parent.state,action)\n",
    "            self.parent=parent\n",
    "            self.action=action\n",
    "            self.path_cost=parent.path_cost+problem.cost(action,inter_city)"
   ]
  },
  {
   "cell_type": "code",
   "execution_count": null,
   "metadata": {},
   "outputs": [],
   "source": [
    "def updatestate(state,percept):\n",
    "    if state==percept[0]:\n",
    "        return state\n",
    "    else:\n",
    "        return percept[0]"
   ]
  },
  {
   "cell_type": "code",
   "execution_count": null,
   "metadata": {},
   "outputs": [],
   "source": [
    "def formulategoal(state,percept):\n",
    "    return percept[1]"
   ]
  },
  {
   "cell_type": "code",
   "execution_count": null,
   "metadata": {},
   "outputs": [],
   "source": [
    "def formulateproblem(state,goal):\n",
    "    problem=Problem(state,goal)\n",
    "    return problem"
   ]
  },
  {
   "cell_type": "code",
   "execution_count": null,
   "metadata": {},
   "outputs": [],
   "source": [
    "def check(child,frontier):\n",
    "    for i in frontier:\n",
    "        if i.state==child.state:\n",
    "            return True\n",
    "        else : \n",
    "            return False        "
   ]
  },
  {
   "cell_type": "code",
   "execution_count": null,
   "metadata": {},
   "outputs": [],
   "source": [
    "def printpath(child):\n",
    "    path=[]\n",
    "    while child.parent!=None:\n",
    "        path.append(child.state)\n",
    "        child=child.parent\n",
    "    path.append(child.state)\n",
    "    return path\n",
    "    "
   ]
  },
  {
   "cell_type": "code",
   "execution_count": null,
   "metadata": {},
   "outputs": [],
   "source": [
    "for i in data:\n",
    "        graph.node(i[0],i[0])\n",
    "        graph.node(i[1],i[1])\n",
    "\n",
    "graph\n"
   ]
  },
  {
   "cell_type": "markdown",
   "metadata": {},
   "source": [
    "<h1 style=\"text-align:center;\">Breadth First Search</h1>"
   ]
  },
  {
   "cell_type": "code",
   "execution_count": 1301,
   "metadata": {},
   "outputs": [],
   "source": [
    "from collections import deque\n",
    "def bfs(problem,goal):\n",
    "    frontier=deque()\n",
    "    node=ChildNode(problem.initialstate,problem,None,None,None)\n",
    "    frontier.append(node)\n",
    "    explored_set=[]\n",
    "    while 1:\n",
    "        if len(frontier)==0:\n",
    "            return 'Failure'\n",
    "        node1=frontier.popleft()\n",
    "        if goal_test(node1.state,goal):\n",
    "            print(\"pathcost from {} to {} is {}\".format(problem.initialstate,goal,node1.path_cost))\n",
    "            return printpath(node1)\n",
    "        explored_set.append(node1.state)\n",
    "        inter_city=problem.action(node1.state)\n",
    "        for i in inter_city:\n",
    "                child=ChildNode(node1.state,problem,i[0],node1,inter_city)\n",
    "                if not check(child,frontier) and child.state not in explored_set:\n",
    "                        frontier.append(child)\n",
    "                else:\n",
    "                    if goal_test(node1.state,goal):\n",
    "                        print(node1.path_cost)\n",
    "                        return printpath(node1)\n"
   ]
  },
  {
   "cell_type": "code",
   "execution_count": 1302,
   "metadata": {
    "scrolled": false
   },
   "outputs": [
    {
     "name": "stdout",
     "output_type": "stream",
     "text": [
      "pathcost from Amaravati to Imphal is 2777\n",
      "path is ['Amaravati', 'Bhubaneswar', 'Kolkata', 'Dispur', 'Imphal']\n"
     ]
    }
   ],
   "source": [
    "result=ProblemSolvingAgent(['Amaravati','Imphal'],bfs,goal_test)\n",
    "print(\"path is {}\".format(result[::-1]))\n",
    "visualization()"
   ]
  },
  {
   "cell_type": "markdown",
   "metadata": {},
   "source": [
    "<h1 style=\"text-align:center;\">Depth First Search</h1>"
   ]
  },
  {
   "cell_type": "code",
   "execution_count": 1210,
   "metadata": {},
   "outputs": [],
   "source": [
    "def dfs(problem,goal):\n",
    "    frontier=deque()\n",
    "    node=ChildNode(problem.initialstate,problem,None,None,None)\n",
    "    frontier.append(node)\n",
    "    explored_set=[]\n",
    "    while 1:\n",
    "        if len(frontier)==0:\n",
    "            return 'Failure'\n",
    "        node1=frontier.pop()\n",
    "        if goal_test(node1.state,goal):\n",
    "            print(\"pathcost from {} to {} is {}\".format(problem.initialstate,goal,node1.path_cost))\n",
    "            return printpath(node1)\n",
    "        explored_set.append(node1.state)\n",
    "        inter_city=problem.action(node1.state)\n",
    "        for i in inter_city:\n",
    "                child=ChildNode(node1.state,problem,i[0],node1,inter_city)\n",
    "                if not check(child,frontier) and child.state not in explored_set:\n",
    "                        frontier.append(child)"
   ]
  },
  {
   "cell_type": "code",
   "execution_count": 1213,
   "metadata": {},
   "outputs": [
    {
     "name": "stdout",
     "output_type": "stream",
     "text": [
      "pathcost from Amaravati to Imphal is 5092\n",
      "path is ['Amaravati', 'Hyderabad', 'Mumbai', 'Raipur', 'Ranchi', 'Patna', 'Kolkata', 'Dispur', 'Kohima', 'Imphal']\n"
     ]
    }
   ],
   "source": [
    "result=ProblemSolvingAgent(['Amaravati','Imphal'],dfs,goal_test)\n",
    "print(\"path is {}\".format(result[::-1]))"
   ]
  },
  {
   "cell_type": "markdown",
   "metadata": {},
   "source": [
    "<h1 style=\"text-align:center;\">Bi-Directional Search</h1>"
   ]
  },
  {
   "cell_type": "code",
   "execution_count": 1217,
   "metadata": {},
   "outputs": [],
   "source": [
    "def bds(problem,goal):\n",
    "    frontier=deque()\n",
    "    node=ChildNode(problem.initialstate,problem,None,None,None)\n",
    "    frontier.append(node)\n",
    "    node1=ChildNode(problem.goal,problem,None,None,None)\n",
    "    frontier1=deque()\n",
    "    frontier1.append(node1)\n",
    "    explored=[]\n",
    "    explored1=[]\n",
    "    while 1:\n",
    "        if len(frontier)==0 or len(frontier1)==0:\n",
    "            return 'Failure'\n",
    "        src_node=frontier.popleft()\n",
    "        explored.append(src_node.state)\n",
    "        inter_city=problem.action(src_node.state)\n",
    "        for i in inter_city:\n",
    "                child=ChildNode(src_node.state,problem,i[0],src_node,inter_city)\n",
    "                if not check(child,frontier) and child.state not in explored:\n",
    "                        frontier.append(child)\n",
    "                        \n",
    "#            BFS Goal             \n",
    "        dest_node=frontier1.popleft()\n",
    "        explored1.append(dest_node.state)\n",
    "        inter_city1=problem.action(dest_node.state)\n",
    "        for j in inter_city1:\n",
    "                child1=ChildNode(dest_node.state,problem,j[0],dest_node,inter_city1)\n",
    "                if not check(child1,frontier1) and child1.state not in explored1:\n",
    "                        frontier1.append(child1)\n",
    "        for city1 in frontier:\n",
    "            for city2 in frontier1:\n",
    "                if city1.state==city2.state:\n",
    "                    \n",
    "                    l1 = printpath(city1)\n",
    "                    print(l1)\n",
    "                    l2 = printpath(city2)\n",
    "                    print(l2)\n",
    "                    l2.pop(0)\n",
    "                    l3=l1[::-1]\n",
    "                    l3.extend(l2)\n",
    "                    return l3"
   ]
  },
  {
   "cell_type": "code",
   "execution_count": 1218,
   "metadata": {},
   "outputs": [
    {
     "name": "stdout",
     "output_type": "stream",
     "text": [
      "['Kolkata', 'Bhubaneswar', 'Amaravati']\n",
      "['Kolkata', 'Dispur', 'Imphal']\n",
      "path is ['Amaravati', 'Bhubaneswar', 'Kolkata', 'Dispur', 'Imphal']\n"
     ]
    }
   ],
   "source": [
    "result=ProblemSolvingAgent(['Amaravati','Imphal'],bds,goal_test)\n",
    "print(\"path is {}\".format(result))"
   ]
  },
  {
   "cell_type": "code",
   "execution_count": 1161,
   "metadata": {},
   "outputs": [],
   "source": [
    "from locationiq.geocoder import LocationIQ as liq\n",
    "import json\n",
    "import time\n",
    "from math import radians,sin,cos,acos\n",
    "geocoder = liq(\"585250143fbac3\")"
   ]
  },
  {
   "cell_type": "markdown",
   "metadata": {},
   "source": [
    "<h1 style=\"text-align:center;\">Heuristic Function</h1>"
   ]
  },
  {
   "cell_type": "code",
   "execution_count": 1162,
   "metadata": {},
   "outputs": [],
   "source": [
    "def heuristic(src,dest):\n",
    "    src1 = geocoder.geocode(src+\" India \")[0]\n",
    "    dest1 = geocoder.geocode(dest+\" India \")[0]\n",
    "    slat = radians(float(src1['lat']))\n",
    "    slon = radians(float(src1['lon']))\n",
    "    elat = radians(float(dest1['lat']))\n",
    "    elon = radians(float(dest1['lon']))\n",
    "    dist = 6371.01 * acos(sin(slat)*sin(elat) + cos(slat)*cos(elat)*cos(slon - elon))\n",
    "    return dist"
   ]
  },
  {
   "cell_type": "markdown",
   "metadata": {},
   "source": [
    "<h1 style=\"text-align:center;\">Astar</h1>"
   ]
  },
  {
   "cell_type": "code",
   "execution_count": 1163,
   "metadata": {},
   "outputs": [],
   "source": [
    "def Astar(problem,goal):\n",
    "    frontier = []\n",
    "    node=ChildNode(problem.initialstate,problem,None,None,0)\n",
    "    heap.heappush(frontier,[heuristic(problem.initialstate,goal),node])\n",
    "    explored = []\n",
    "    while 1:\n",
    "        if len(frontier)==0:\n",
    "            return 'Failure'\n",
    "        node1 = heap.heappop(frontier)\n",
    "        time.sleep(1)\n",
    "        g=node1[1].path_cost-heuristic(node1[1].state,goal)\n",
    "        if goal_test(node1[1],goal):\n",
    "            return True\n",
    "        explored.append(node1[1].state)\n",
    "        inter_city = problem.action(node1[1].state)\n",
    "        for i in inter_city :\n",
    "            time.sleep(1)\n",
    "            h= heuristic(i[0],goal)\n",
    "            f= i[1]+ g + h\n",
    "            child=ChildNode(node1[1].state,problem,i[0],node1,heuristic(node1[1].state,goal))\n",
    "            if i[0] not in explored and i[0] not in check(i,frontier):\n",
    "                heap.heappush(frontier,[f,i[0]])\n",
    "            elif i[0] in list(map(itemgetter(1),frontier)):\n",
    "                ind = list(map(itemgetter(1),frontier)).index(i[0])\n",
    "                if f_n+i[1] < frontier[ind][0]:\n",
    "                    frontier[ind][0] = f_n+i[1]\n",
    "                    heap.heapify(frontier)"
   ]
  },
  {
   "cell_type": "code",
   "execution_count": 1285,
   "metadata": {},
   "outputs": [
    {
     "ename": "TypeError",
     "evalue": "__init__() missing 1 required positional argument: 'inter_city'",
     "output_type": "error",
     "traceback": [
      "\u001b[1;31m---------------------------------------------------------------------------\u001b[0m",
      "\u001b[1;31mTypeError\u001b[0m                                 Traceback (most recent call last)",
      "\u001b[1;32m<ipython-input-1285-2cf5e0b85769>\u001b[0m in \u001b[0;36m<module>\u001b[1;34m\u001b[0m\n\u001b[1;32m----> 1\u001b[1;33m \u001b[0mresult\u001b[0m\u001b[1;33m=\u001b[0m\u001b[0mProblemSolvingAgent\u001b[0m\u001b[1;33m(\u001b[0m\u001b[1;33m[\u001b[0m\u001b[1;34m'Agartala'\u001b[0m\u001b[1;33m,\u001b[0m\u001b[1;34m'Imphal'\u001b[0m\u001b[1;33m]\u001b[0m\u001b[1;33m,\u001b[0m\u001b[0mAstar\u001b[0m\u001b[1;33m,\u001b[0m\u001b[0mgoal_test\u001b[0m\u001b[1;33m)\u001b[0m\u001b[1;33m\u001b[0m\u001b[1;33m\u001b[0m\u001b[0m\n\u001b[0m\u001b[0;32m      2\u001b[0m \u001b[0mprint\u001b[0m\u001b[1;33m(\u001b[0m\u001b[0mresult\u001b[0m\u001b[1;33m)\u001b[0m\u001b[1;33m\u001b[0m\u001b[1;33m\u001b[0m\u001b[0m\n",
      "\u001b[1;32m<ipython-input-1276-f7bce62611d3>\u001b[0m in \u001b[0;36mProblemSolvingAgent\u001b[1;34m(percept, search, goaltest)\u001b[0m\n\u001b[0;32m     11\u001b[0m         \u001b[0mgoal\u001b[0m\u001b[1;33m=\u001b[0m\u001b[0mformulategoal\u001b[0m\u001b[1;33m(\u001b[0m\u001b[0mstate\u001b[0m\u001b[1;33m,\u001b[0m\u001b[0mpercept\u001b[0m\u001b[1;33m)\u001b[0m\u001b[1;33m\u001b[0m\u001b[1;33m\u001b[0m\u001b[0m\n\u001b[0;32m     12\u001b[0m         \u001b[0mproblem\u001b[0m\u001b[1;33m=\u001b[0m\u001b[0mformulateproblem\u001b[0m\u001b[1;33m(\u001b[0m\u001b[0mstate\u001b[0m\u001b[1;33m,\u001b[0m\u001b[0mgoal\u001b[0m\u001b[1;33m)\u001b[0m\u001b[1;33m\u001b[0m\u001b[1;33m\u001b[0m\u001b[0m\n\u001b[1;32m---> 13\u001b[1;33m         \u001b[0mseq\u001b[0m\u001b[1;33m=\u001b[0m\u001b[0msearch\u001b[0m\u001b[1;33m(\u001b[0m\u001b[0mproblem\u001b[0m\u001b[1;33m,\u001b[0m\u001b[0mgoal\u001b[0m\u001b[1;33m)\u001b[0m\u001b[1;33m\u001b[0m\u001b[1;33m\u001b[0m\u001b[0m\n\u001b[0m\u001b[0;32m     14\u001b[0m         \u001b[1;32mif\u001b[0m \u001b[0mseq\u001b[0m\u001b[1;33m==\u001b[0m\u001b[1;32mNone\u001b[0m\u001b[1;33m:\u001b[0m\u001b[1;33m\u001b[0m\u001b[1;33m\u001b[0m\u001b[0m\n\u001b[0;32m     15\u001b[0m             \u001b[1;32mreturn\u001b[0m \u001b[1;32mNone\u001b[0m\u001b[1;33m\u001b[0m\u001b[1;33m\u001b[0m\u001b[0m\n",
      "\u001b[1;32m<ipython-input-1182-8ac01b201c9e>\u001b[0m in \u001b[0;36mAstar\u001b[1;34m(problem, goal)\u001b[0m\n\u001b[0;32m      1\u001b[0m \u001b[1;32mdef\u001b[0m \u001b[0mAstar\u001b[0m\u001b[1;33m(\u001b[0m\u001b[0mproblem\u001b[0m\u001b[1;33m,\u001b[0m\u001b[0mgoal\u001b[0m\u001b[1;33m)\u001b[0m\u001b[1;33m:\u001b[0m\u001b[1;33m\u001b[0m\u001b[1;33m\u001b[0m\u001b[0m\n\u001b[0;32m      2\u001b[0m     \u001b[0mfrontier\u001b[0m\u001b[1;33m=\u001b[0m\u001b[1;33m[\u001b[0m\u001b[1;33m]\u001b[0m\u001b[1;33m\u001b[0m\u001b[1;33m\u001b[0m\u001b[0m\n\u001b[1;32m----> 3\u001b[1;33m     \u001b[0mnode\u001b[0m\u001b[1;33m=\u001b[0m\u001b[0mChildNode\u001b[0m\u001b[1;33m(\u001b[0m\u001b[0mproblem1\u001b[0m\u001b[1;33m.\u001b[0m\u001b[0minitial\u001b[0m\u001b[1;33m,\u001b[0m\u001b[0mproblem1\u001b[0m\u001b[1;33m,\u001b[0m\u001b[1;32mNone\u001b[0m\u001b[1;33m,\u001b[0m\u001b[1;32mNone\u001b[0m\u001b[1;33m)\u001b[0m\u001b[1;33m\u001b[0m\u001b[1;33m\u001b[0m\u001b[0m\n\u001b[0m\u001b[0;32m      4\u001b[0m     \u001b[0mheap\u001b[0m\u001b[1;33m.\u001b[0m\u001b[0mheappush\u001b[0m\u001b[1;33m(\u001b[0m\u001b[0mfrontier\u001b[0m\u001b[1;33m,\u001b[0m\u001b[1;33m[\u001b[0m\u001b[1;36m0\u001b[0m\u001b[1;33m,\u001b[0m\u001b[0mnode\u001b[0m\u001b[1;33m]\u001b[0m\u001b[1;33m)\u001b[0m\u001b[1;33m\u001b[0m\u001b[1;33m\u001b[0m\u001b[0m\n\u001b[0;32m      5\u001b[0m     \u001b[0mexplored\u001b[0m\u001b[1;33m=\u001b[0m\u001b[1;33m[\u001b[0m\u001b[1;33m]\u001b[0m\u001b[1;33m\u001b[0m\u001b[1;33m\u001b[0m\u001b[0m\n",
      "\u001b[1;31mTypeError\u001b[0m: __init__() missing 1 required positional argument: 'inter_city'"
     ]
    }
   ],
   "source": [
    "result=ProblemSolvingAgent(['Agartala','Imphal'],Astar,goal_test)\n",
    "print(result)"
   ]
  },
  {
   "cell_type": "code",
   "execution_count": 1165,
   "metadata": {},
   "outputs": [],
   "source": [
    "import queue\n",
    "from copy import deepcopy\n",
    "import sys\n",
    "Goal =[[1, 2,3], [4, 5,6], [7, 8,0]]"
   ]
  },
  {
   "cell_type": "markdown",
   "metadata": {},
   "source": [
    "<h1 style=\"text-align:center;\">2)Puzzle problem</h1>"
   ]
  },
  {
   "cell_type": "code",
   "execution_count": 1166,
   "metadata": {},
   "outputs": [],
   "source": [
    "problem1= None\n",
    "goal = None\n",
    "seq = None\n",
    "def Puzzleproblem(percept,search,goal_test):\n",
    "    global problem1, goal, seq\n",
    "    seq=[]\n",
    "    state=percept[0]\n",
    "    state=updatestate1(state,percept)\n",
    "    goal=percept[1]\n",
    "    if seq==[]:\n",
    "        goal=formulategoal1(state,percept)\n",
    "        problem1=formulateproblem1(state,goal)\n",
    "        seq=search(problem1,goal)\n",
    "        if seq==None:\n",
    "            return None\n",
    "        return seq"
   ]
  },
  {
   "cell_type": "code",
   "execution_count": 1167,
   "metadata": {},
   "outputs": [],
   "source": [
    "class Problem1:\n",
    "    def __init__(self,initial,goal=Goal):\n",
    "        self.initial=initial\n",
    "        self.goal=goal\n",
    "    def steps(self,state):\n",
    "        action=[]\n",
    "        i,j = findIndex(state)\n",
    "        if j!=0:\n",
    "            duplicate=deepcopy(state)\n",
    "            duplicate[i][j],duplicate[i][j-1] = duplicate[i][j-1],duplicate[i][j]\n",
    "            action.append(duplicate)\n",
    "        if j!=2:\n",
    "            duplicate=deepcopy(state)\n",
    "            duplicate[i][j],duplicate[i][j+1] = duplicate[i][j+1],duplicate[i][j]\n",
    "            action.append(duplicate)\n",
    "        if i!=0:\n",
    "            duplicate=deepcopy(state)\n",
    "            duplicate[i][j],duplicate[i-1][j] = duplicate[i-1][j],duplicate[i][j]\n",
    "            action.append(duplicate)\n",
    "        if i!=2:\n",
    "            duplicate=deepcopy(state)\n",
    "            duplicate[i][j],duplicate[i+1][j] = duplicate[i+1][j],duplicate[i][j]\n",
    "            action.append(duplicate)\n",
    "        return action \n",
    "    def result(self,state,action):\n",
    "        return action\n",
    "    def stepcost(self,state,action):\n",
    "        return 1"
   ]
  },
  {
   "cell_type": "code",
   "execution_count": 1168,
   "metadata": {},
   "outputs": [],
   "source": [
    "class ChildNode:\n",
    "    def __init__(self,state,problem1,action,parent):\n",
    "        if parent is None:\n",
    "            self.state=state\n",
    "            self.parent=None\n",
    "            self.action=None\n",
    "            self.path_cost=0\n",
    "        else:\n",
    "            self.state=problem1.result(parent.state,action)\n",
    "            self.parent=parent\n",
    "            self.action=action\n",
    "            self.path_cost=parent.path_cost+1\n",
    "    def __lt__(self,other):\n",
    "        return self.path_cost < other.path_cost"
   ]
  },
  {
   "cell_type": "code",
   "execution_count": 1169,
   "metadata": {},
   "outputs": [],
   "source": [
    "def check1(node,frontier):\n",
    "    for i in frontier.queue:\n",
    "        if node.state==i[1].state:\n",
    "            return True\n",
    "    return False"
   ]
  },
  {
   "cell_type": "code",
   "execution_count": 1170,
   "metadata": {},
   "outputs": [],
   "source": [
    "def updatestate1(state,percept):\n",
    "    if state==percept[0]:\n",
    "        return state\n",
    "    else:\n",
    "        return percept[0] "
   ]
  },
  {
   "cell_type": "code",
   "execution_count": 1171,
   "metadata": {},
   "outputs": [],
   "source": [
    "def formulategoal1(state,percept):\n",
    "    return percept[1]"
   ]
  },
  {
   "cell_type": "code",
   "execution_count": 1172,
   "metadata": {},
   "outputs": [],
   "source": [
    "def formulateproblem1(state,goal):\n",
    "    problem=Problem1(state,goal)\n",
    "    return problem"
   ]
  },
  {
   "cell_type": "code",
   "execution_count": 1173,
   "metadata": {},
   "outputs": [],
   "source": [
    "def printpath1(child):\n",
    "    path=[]\n",
    "    count=0\n",
    "    while child.parent!=None:\n",
    "        path.append(child.state)\n",
    "        child=child.parent\n",
    "    path.append(child.state)\n",
    "    path = path[::-1]\n",
    "    for i in path:\n",
    "        count=count+1\n",
    "        for x in i:\n",
    "            print(x)\n",
    "        print()\n",
    "        print()\n",
    "    print(count)"
   ]
  },
  {
   "cell_type": "markdown",
   "metadata": {},
   "source": [
    "<h1 style=\"text-align:center;\">Find Function</h1>"
   ]
  },
  {
   "cell_type": "code",
   "execution_count": 1174,
   "metadata": {},
   "outputs": [],
   "source": [
    "def findIndex(node):\n",
    "    for i in range(3):\n",
    "        for j in range(3):\n",
    "            if node[i][j] == 0:\n",
    "                return i, j"
   ]
  },
  {
   "cell_type": "markdown",
   "metadata": {},
   "source": [
    "<h1 style=\"text-align:center;\">Heuristic for puzzle problem</h1>"
   ]
  },
  {
   "cell_type": "code",
   "execution_count": 1175,
   "metadata": {},
   "outputs": [],
   "source": [
    "def Heuristic(node, goal):\n",
    "    steps = 0\n",
    "    for i in range(3):\n",
    "        for j in range(3):\n",
    "            value = node.state[i][j]\n",
    "            for k in range(3):\n",
    "                for l in range(3):\n",
    "                    if value == goal[k][l]:\n",
    "                        steps += abs(i-k) + abs(j-l)\n",
    "\n",
    "    return steps"
   ]
  },
  {
   "cell_type": "markdown",
   "metadata": {},
   "source": [
    "<h1 style=\"text-align:center;\">Breadth First Search</h1>"
   ]
  },
  {
   "cell_type": "code",
   "execution_count": 1176,
   "metadata": {},
   "outputs": [],
   "source": [
    "def bfs(problem,goal):\n",
    "    frontier=deque()\n",
    "    node=ChildNode(problem1.initial,problem1,None,None)\n",
    "    frontier.append(node)\n",
    "    explored=[]\n",
    "    while len(frontier)!=0:\n",
    "        node1=frontier.popleft()\n",
    "        if goal_test(node1.state,goal):\n",
    "            return printpath1(node1)\n",
    "        explored.append(node1.state)\n",
    "        inter_steps=problem1.steps(node1.state)\n",
    "        for i in inter_steps:\n",
    "                child=ChildNode(node1.state,problem1,i,node1)\n",
    "                if not check(child,frontier) and child.state not in explored:\n",
    "                         frontier.append(child)\n",
    "                else:\n",
    "                    if goal_test(node1.state,goal):\n",
    "                         return printpath1(node1)"
   ]
  },
  {
   "cell_type": "code",
   "execution_count": 1177,
   "metadata": {},
   "outputs": [
    {
     "name": "stdout",
     "output_type": "stream",
     "text": [
      "[1, 2, 3]\n",
      "[4, 0, 5]\n",
      "[6, 7, 8]\n",
      "\n",
      "\n",
      "[1, 2, 3]\n",
      "[0, 4, 5]\n",
      "[6, 7, 8]\n",
      "\n",
      "\n",
      "[0, 2, 3]\n",
      "[1, 4, 5]\n",
      "[6, 7, 8]\n",
      "\n",
      "\n",
      "[2, 0, 3]\n",
      "[1, 4, 5]\n",
      "[6, 7, 8]\n",
      "\n",
      "\n",
      "[2, 3, 0]\n",
      "[1, 4, 5]\n",
      "[6, 7, 8]\n",
      "\n",
      "\n",
      "[2, 3, 5]\n",
      "[1, 4, 0]\n",
      "[6, 7, 8]\n",
      "\n",
      "\n",
      "[2, 3, 5]\n",
      "[1, 0, 4]\n",
      "[6, 7, 8]\n",
      "\n",
      "\n",
      "[2, 0, 5]\n",
      "[1, 3, 4]\n",
      "[6, 7, 8]\n",
      "\n",
      "\n",
      "[0, 2, 5]\n",
      "[1, 3, 4]\n",
      "[6, 7, 8]\n",
      "\n",
      "\n",
      "[1, 2, 5]\n",
      "[0, 3, 4]\n",
      "[6, 7, 8]\n",
      "\n",
      "\n",
      "[1, 2, 5]\n",
      "[3, 0, 4]\n",
      "[6, 7, 8]\n",
      "\n",
      "\n",
      "[1, 2, 5]\n",
      "[3, 4, 0]\n",
      "[6, 7, 8]\n",
      "\n",
      "\n",
      "[1, 2, 0]\n",
      "[3, 4, 5]\n",
      "[6, 7, 8]\n",
      "\n",
      "\n",
      "[1, 0, 2]\n",
      "[3, 4, 5]\n",
      "[6, 7, 8]\n",
      "\n",
      "\n",
      "[0, 1, 2]\n",
      "[3, 4, 5]\n",
      "[6, 7, 8]\n",
      "\n",
      "\n",
      "15\n"
     ]
    }
   ],
   "source": [
    "Puzzleproblem([ [[1,2,3], [4,0,5], [6,7, 8]],[[0,1, 2], [3,4, 5], [6,7, 8]]],bfs,goal_test)"
   ]
  },
  {
   "cell_type": "markdown",
   "metadata": {},
   "source": [
    "<h1 style=\"text-align:center;\">Depth First Search</h1>"
   ]
  },
  {
   "cell_type": "code",
   "execution_count": 1178,
   "metadata": {},
   "outputs": [],
   "source": [
    "def dfs(problem,goal):\n",
    "    frontier=deque()\n",
    "    node=ChildNode(problem1.initial,problem1,None,None)\n",
    "    frontier.append(node)\n",
    "    explored=[]\n",
    "    while len(frontier)!=0:\n",
    "        node1=frontier.pop()\n",
    "        if goal_test(node1.state,goal):\n",
    "            return printpath1(node1)\n",
    "        explored.append(node1.state)\n",
    "        inter_steps=problem1.steps(node1.state)\n",
    "        for i in inter_steps:\n",
    "                child=ChildNode(node1.state,problem1,i,node1)\n",
    "                if not check(child,frontier) and child.state not in explored:\n",
    "                         frontier.append(child)"
   ]
  },
  {
   "cell_type": "code",
   "execution_count": 1179,
   "metadata": {},
   "outputs": [
    {
     "name": "stdout",
     "output_type": "stream",
     "text": [
      "[1, 2, 3]\n",
      "[4, 0, 5]\n",
      "[7, 8, 6]\n",
      "\n",
      "\n",
      "[1, 2, 3]\n",
      "[4, 8, 5]\n",
      "[7, 0, 6]\n",
      "\n",
      "\n",
      "[1, 2, 3]\n",
      "[4, 8, 5]\n",
      "[7, 6, 0]\n",
      "\n",
      "\n",
      "[1, 2, 3]\n",
      "[4, 8, 0]\n",
      "[7, 6, 5]\n",
      "\n",
      "\n",
      "[1, 2, 0]\n",
      "[4, 8, 3]\n",
      "[7, 6, 5]\n",
      "\n",
      "\n",
      "[1, 0, 2]\n",
      "[4, 8, 3]\n",
      "[7, 6, 5]\n",
      "\n",
      "\n",
      "[1, 8, 2]\n",
      "[4, 0, 3]\n",
      "[7, 6, 5]\n",
      "\n",
      "\n",
      "[1, 8, 2]\n",
      "[4, 6, 3]\n",
      "[7, 0, 5]\n",
      "\n",
      "\n",
      "8\n"
     ]
    }
   ],
   "source": [
    "Puzzleproblem([ [[1, 2,3], [4, 0,5], [7,8,6]],[[1,8,2], [4,6,3], [7,0,5]]],dfs,goal_test)"
   ]
  },
  {
   "cell_type": "markdown",
   "metadata": {},
   "source": [
    "<h1 style=\"text-align:center;\">Greedy Best First Search</h1>"
   ]
  },
  {
   "cell_type": "code",
   "execution_count": 1180,
   "metadata": {},
   "outputs": [],
   "source": [
    "def gbfs(problem,goal):\n",
    "    frontier=[]\n",
    "    node=ChildNode(problem1.initial,problem1,None,None)\n",
    "    heap.heappush(frontier,[0,node])\n",
    "    explored=[]\n",
    "    while len(frontier)!=0:\n",
    "        node1=heap.heappop(frontier)\n",
    "        if goal_test(node1[1].state,goal):\n",
    "            return printpath1(node1[1])\n",
    "        explored.append(node1[1].state)\n",
    "        inter_steps=problem1.steps(node1[1].state)\n",
    "        for i in inter_steps:\n",
    "                child=ChildNode(node1[1].state,problem1,i,node1[1])\n",
    "                if child.state not in explored:\n",
    "                         heuristic = Heuristic(child,goal)\n",
    "                         heap.heappush(frontier,[heuristic,child])"
   ]
  },
  {
   "cell_type": "code",
   "execution_count": 1181,
   "metadata": {},
   "outputs": [
    {
     "name": "stdout",
     "output_type": "stream",
     "text": [
      "[7, 2, 4]\n",
      "[5, 0, 6]\n",
      "[8, 3, 1]\n",
      "\n",
      "\n",
      "[7, 2, 4]\n",
      "[5, 3, 6]\n",
      "[8, 0, 1]\n",
      "\n",
      "\n",
      "[7, 2, 4]\n",
      "[5, 3, 6]\n",
      "[0, 8, 1]\n",
      "\n",
      "\n",
      "[7, 2, 4]\n",
      "[0, 3, 6]\n",
      "[5, 8, 1]\n",
      "\n",
      "\n",
      "[7, 2, 4]\n",
      "[3, 0, 6]\n",
      "[5, 8, 1]\n",
      "\n",
      "\n",
      "[7, 2, 4]\n",
      "[3, 6, 0]\n",
      "[5, 8, 1]\n",
      "\n",
      "\n",
      "[7, 2, 0]\n",
      "[3, 6, 4]\n",
      "[5, 8, 1]\n",
      "\n",
      "\n",
      "[7, 0, 2]\n",
      "[3, 6, 4]\n",
      "[5, 8, 1]\n",
      "\n",
      "\n",
      "[0, 7, 2]\n",
      "[3, 6, 4]\n",
      "[5, 8, 1]\n",
      "\n",
      "\n",
      "[3, 7, 2]\n",
      "[0, 6, 4]\n",
      "[5, 8, 1]\n",
      "\n",
      "\n",
      "[3, 7, 2]\n",
      "[6, 0, 4]\n",
      "[5, 8, 1]\n",
      "\n",
      "\n",
      "[3, 7, 2]\n",
      "[6, 4, 0]\n",
      "[5, 8, 1]\n",
      "\n",
      "\n",
      "[3, 7, 2]\n",
      "[6, 4, 1]\n",
      "[5, 8, 0]\n",
      "\n",
      "\n",
      "[3, 7, 2]\n",
      "[6, 4, 1]\n",
      "[5, 0, 8]\n",
      "\n",
      "\n",
      "[3, 7, 2]\n",
      "[6, 4, 1]\n",
      "[0, 5, 8]\n",
      "\n",
      "\n",
      "[3, 7, 2]\n",
      "[0, 4, 1]\n",
      "[6, 5, 8]\n",
      "\n",
      "\n",
      "[3, 7, 2]\n",
      "[4, 0, 1]\n",
      "[6, 5, 8]\n",
      "\n",
      "\n",
      "[3, 7, 2]\n",
      "[4, 1, 0]\n",
      "[6, 5, 8]\n",
      "\n",
      "\n",
      "[3, 7, 0]\n",
      "[4, 1, 2]\n",
      "[6, 5, 8]\n",
      "\n",
      "\n",
      "[3, 0, 7]\n",
      "[4, 1, 2]\n",
      "[6, 5, 8]\n",
      "\n",
      "\n",
      "[3, 1, 7]\n",
      "[4, 0, 2]\n",
      "[6, 5, 8]\n",
      "\n",
      "\n",
      "[3, 1, 7]\n",
      "[4, 5, 2]\n",
      "[6, 0, 8]\n",
      "\n",
      "\n",
      "[3, 1, 7]\n",
      "[4, 5, 2]\n",
      "[0, 6, 8]\n",
      "\n",
      "\n",
      "[3, 1, 7]\n",
      "[0, 5, 2]\n",
      "[4, 6, 8]\n",
      "\n",
      "\n",
      "[0, 1, 7]\n",
      "[3, 5, 2]\n",
      "[4, 6, 8]\n",
      "\n",
      "\n",
      "[1, 0, 7]\n",
      "[3, 5, 2]\n",
      "[4, 6, 8]\n",
      "\n",
      "\n",
      "[1, 7, 0]\n",
      "[3, 5, 2]\n",
      "[4, 6, 8]\n",
      "\n",
      "\n",
      "[1, 7, 2]\n",
      "[3, 5, 0]\n",
      "[4, 6, 8]\n",
      "\n",
      "\n",
      "[1, 7, 2]\n",
      "[3, 0, 5]\n",
      "[4, 6, 8]\n",
      "\n",
      "\n",
      "[1, 0, 2]\n",
      "[3, 7, 5]\n",
      "[4, 6, 8]\n",
      "\n",
      "\n",
      "[0, 1, 2]\n",
      "[3, 7, 5]\n",
      "[4, 6, 8]\n",
      "\n",
      "\n",
      "[3, 1, 2]\n",
      "[0, 7, 5]\n",
      "[4, 6, 8]\n",
      "\n",
      "\n",
      "[3, 1, 2]\n",
      "[4, 7, 5]\n",
      "[0, 6, 8]\n",
      "\n",
      "\n",
      "[3, 1, 2]\n",
      "[4, 7, 5]\n",
      "[6, 0, 8]\n",
      "\n",
      "\n",
      "[3, 1, 2]\n",
      "[4, 0, 5]\n",
      "[6, 7, 8]\n",
      "\n",
      "\n",
      "[3, 1, 2]\n",
      "[0, 4, 5]\n",
      "[6, 7, 8]\n",
      "\n",
      "\n",
      "[0, 1, 2]\n",
      "[3, 4, 5]\n",
      "[6, 7, 8]\n",
      "\n",
      "\n",
      "37\n"
     ]
    }
   ],
   "source": [
    "Puzzleproblem([ [[7, 2,4], [5,0,6], [8,3,1]],[[0,1,2], [3,4,5], [6,7,8]]],gbfs,goal_test)"
   ]
  },
  {
   "cell_type": "code",
   "execution_count": 1182,
   "metadata": {},
   "outputs": [],
   "source": [
    "def Astar(problem,goal):\n",
    "    frontier=[]\n",
    "    node=ChildNode(problem1.initial,problem1,None,None)\n",
    "    heap.heappush(frontier,[0,node])\n",
    "    explored=[]\n",
    "    while len(frontier)!=0:\n",
    "        node1=heap.heappop(frontier)\n",
    "        if goal_test(node1[1].state,goal):\n",
    "            return printpath1(node1[1])\n",
    "        explored.append(node1[1].state)\n",
    "        inter_steps=problem1.steps(node1[1].state)\n",
    "        for i in inter_steps:\n",
    "                child=ChildNode(node1[1].state,problem1,i,node1[1])\n",
    "                if child.state not in explored:\n",
    "                         heuristic = Heuristic(child,goal)+child.path_cost\n",
    "                         heap.heappush(frontier,[heuristic,child])"
   ]
  },
  {
   "cell_type": "code",
   "execution_count": 1183,
   "metadata": {},
   "outputs": [
    {
     "name": "stdout",
     "output_type": "stream",
     "text": [
      "[7, 2, 4]\n",
      "[5, 0, 6]\n",
      "[8, 3, 1]\n",
      "\n",
      "\n",
      "[7, 2, 4]\n",
      "[0, 5, 6]\n",
      "[8, 3, 1]\n",
      "\n",
      "\n",
      "[0, 2, 4]\n",
      "[7, 5, 6]\n",
      "[8, 3, 1]\n",
      "\n",
      "\n",
      "[2, 0, 4]\n",
      "[7, 5, 6]\n",
      "[8, 3, 1]\n",
      "\n",
      "\n",
      "[2, 5, 4]\n",
      "[7, 0, 6]\n",
      "[8, 3, 1]\n",
      "\n",
      "\n",
      "[2, 5, 4]\n",
      "[7, 3, 6]\n",
      "[8, 0, 1]\n",
      "\n",
      "\n",
      "[2, 5, 4]\n",
      "[7, 3, 6]\n",
      "[0, 8, 1]\n",
      "\n",
      "\n",
      "[2, 5, 4]\n",
      "[0, 3, 6]\n",
      "[7, 8, 1]\n",
      "\n",
      "\n",
      "[2, 5, 4]\n",
      "[3, 0, 6]\n",
      "[7, 8, 1]\n",
      "\n",
      "\n",
      "[2, 5, 4]\n",
      "[3, 6, 0]\n",
      "[7, 8, 1]\n",
      "\n",
      "\n",
      "[2, 5, 0]\n",
      "[3, 6, 4]\n",
      "[7, 8, 1]\n",
      "\n",
      "\n",
      "[2, 0, 5]\n",
      "[3, 6, 4]\n",
      "[7, 8, 1]\n",
      "\n",
      "\n",
      "[0, 2, 5]\n",
      "[3, 6, 4]\n",
      "[7, 8, 1]\n",
      "\n",
      "\n",
      "[3, 2, 5]\n",
      "[0, 6, 4]\n",
      "[7, 8, 1]\n",
      "\n",
      "\n",
      "[3, 2, 5]\n",
      "[6, 0, 4]\n",
      "[7, 8, 1]\n",
      "\n",
      "\n",
      "[3, 2, 5]\n",
      "[6, 4, 0]\n",
      "[7, 8, 1]\n",
      "\n",
      "\n",
      "[3, 2, 5]\n",
      "[6, 4, 1]\n",
      "[7, 8, 0]\n",
      "\n",
      "\n",
      "[3, 2, 5]\n",
      "[6, 4, 1]\n",
      "[7, 0, 8]\n",
      "\n",
      "\n",
      "[3, 2, 5]\n",
      "[6, 4, 1]\n",
      "[0, 7, 8]\n",
      "\n",
      "\n",
      "[3, 2, 5]\n",
      "[0, 4, 1]\n",
      "[6, 7, 8]\n",
      "\n",
      "\n",
      "[3, 2, 5]\n",
      "[4, 0, 1]\n",
      "[6, 7, 8]\n",
      "\n",
      "\n",
      "[3, 2, 5]\n",
      "[4, 1, 0]\n",
      "[6, 7, 8]\n",
      "\n",
      "\n",
      "[3, 2, 0]\n",
      "[4, 1, 5]\n",
      "[6, 7, 8]\n",
      "\n",
      "\n",
      "[3, 0, 2]\n",
      "[4, 1, 5]\n",
      "[6, 7, 8]\n",
      "\n",
      "\n",
      "[3, 1, 2]\n",
      "[4, 0, 5]\n",
      "[6, 7, 8]\n",
      "\n",
      "\n",
      "[3, 1, 2]\n",
      "[0, 4, 5]\n",
      "[6, 7, 8]\n",
      "\n",
      "\n",
      "[0, 1, 2]\n",
      "[3, 4, 5]\n",
      "[6, 7, 8]\n",
      "\n",
      "\n",
      "27\n"
     ]
    }
   ],
   "source": [
    "Puzzleproblem([ [[7, 2,4], [5, 0,6], [8,3,1]],[[0,1,2], [3,4,5], [6,7,8]]],Astar,goal_test)"
   ]
  },
  {
   "cell_type": "code",
   "execution_count": null,
   "metadata": {},
   "outputs": [],
   "source": []
  },
  {
   "cell_type": "code",
   "execution_count": null,
   "metadata": {},
   "outputs": [],
   "source": []
  }
 ],
 "metadata": {
  "kernelspec": {
   "display_name": "Python 3",
   "language": "python",
   "name": "python3"
  },
  "language_info": {
   "codemirror_mode": {
    "name": "ipython",
    "version": 3
   },
   "file_extension": ".py",
   "mimetype": "text/x-python",
   "name": "python",
   "nbconvert_exporter": "python",
   "pygments_lexer": "ipython3",
   "version": "3.7.4"
  }
 },
 "nbformat": 4,
 "nbformat_minor": 2
}
